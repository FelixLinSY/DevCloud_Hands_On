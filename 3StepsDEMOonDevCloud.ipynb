{
 "cells": [
  {
   "cell_type": "markdown",
   "id": "b4bbd513",
   "metadata": {},
   "source": [
    "# STEP1: Clone open_model_zoo Repository\n",
    "\n",
    "[open_model_zoo](https://github.com/openvinotoolkit/open_model_zoo) 是 OpenVINO Toolkit 下的子專案，內容包含大量的預先訓練好的深度神經網路模型，並且附帶各種不同的 DEMO 範例程式。先知其然在探究其所以然，讓入門者可以方便切入 AI 領域。\n",
    "\n",
    "在DevCloud上雖然已有內建open_model_zoo的範例與模型說明資料等，但為確保我們使用的是最新版本，需要從 Github 複製一個目前最新的 open_model_zoo 副本到 DevCloud上。"
   ]
  },
  {
   "cell_type": "code",
   "execution_count": null,
   "id": "83fb526f",
   "metadata": {},
   "outputs": [],
   "source": [
    "!mkdir ~/my_demo/"
   ]
  },
  {
   "cell_type": "code",
   "execution_count": null,
   "id": "4895e0ab",
   "metadata": {},
   "outputs": [],
   "source": [
    "%cd ~/my_demo/"
   ]
  },
  {
   "cell_type": "code",
   "execution_count": null,
   "id": "dddc45fe",
   "metadata": {},
   "outputs": [],
   "source": [
    "!git clone https://github.com/openvinotoolkit/open_model_zoo.git"
   ]
  },
  {
   "cell_type": "markdown",
   "id": "b8866ebf",
   "metadata": {},
   "source": [
    "# STEP2: Download and Converter Pre-trained Model 下載與轉換預訓練模型\n",
    "使用內建的 OpenVINO downloader 工具，下載範例 DEMO 程式相關模型。\n",
    "\n",
    "由於物件偵測 object detection 的模型非常多，這邊會花上一些等待時間。\n",
    "若已經有指定的模型，可以只下載特定模型以節省時間。"
   ]
  },
  {
   "cell_type": "markdown",
   "id": "9d15e9ee",
   "metadata": {},
   "source": [
    "## All Object Detection Models 下載全部模型"
   ]
  },
  {
   "cell_type": "markdown",
   "id": "0e5f9527",
   "metadata": {},
   "source": [
    "### Download 下載模型\n"
   ]
  },
  {
   "cell_type": "markdown",
   "id": "1263e1c1",
   "metadata": {},
   "source": [
    "下載預訓練的模型做，所有模型可以參照\n",
    "\n",
    "downloader.py 工具常用參數如下，完整說明可參閱 [OpenVINO文件](https://docs.openvinotoolkit.org/latest/omz_tools_downloader.html)\n",
    "\n",
    "* --all: 下載所有預訓練模型（數量龐大耗費時間久，不建議）\n",
    "* --list: 使用模型列表檔案來進行轉換\n",
    "* --name: 指定模型的名稱，個模型用逗點隔開\n",
    "* --precisions: 只下載特定精度的預訓練模型，如FP32, FP16 等\n"
   ]
  },
  {
   "cell_type": "code",
   "execution_count": null,
   "id": "39e463bc",
   "metadata": {},
   "outputs": [],
   "source": [
    "DEMO_PATH='open_model_zoo/demos/object_detection_demo/python'"
   ]
  },
  {
   "cell_type": "code",
   "execution_count": null,
   "id": "0c7fd029",
   "metadata": {
    "scrolled": true
   },
   "outputs": [],
   "source": [
    "!downloader.py --list $DEMO_PATH/models.lst"
   ]
  },
  {
   "cell_type": "markdown",
   "id": "516cdf8c",
   "metadata": {},
   "source": [
    "### Converter 轉換模型\n",
    "將預訓練的模型做最佳化轉換成 OpenVINO 推論引擎要使用的格式。\n",
    "\n",
    "converter.py 工具常用參數，\n",
    "\n",
    "* --all:  轉換所有預訓練模型（數量龐大耗費時間久，不建議）\n",
    "* --list: 使用模型列表檔案來進行轉換\n",
    "* --name: 指定模型的名稱，個模型用逗點隔開\n",
    "* --precisions: 指定轉換模型的精度，如FP32, FP16 等\n"
   ]
  },
  {
   "cell_type": "code",
   "execution_count": null,
   "id": "1591cc12",
   "metadata": {},
   "outputs": [],
   "source": [
    "!converter.py --list $DEMO_PATH/models.lst"
   ]
  },
  {
   "cell_type": "markdown",
   "id": "32726dbf",
   "metadata": {},
   "source": [
    "## Sepcific Model 下載特定模型"
   ]
  },
  {
   "cell_type": "markdown",
   "id": "7763b06c",
   "metadata": {},
   "source": [
    "### Download 下載模型\n",
    "下載預訓練的模型做，所有模型可以參照\n",
    "\n",
    "downloader.py 工具常用參數如下，完整說明可參閱 [OpenVINO文件](https://docs.openvinotoolkit.org/latest/omz_tools_downloader.html)\n",
    "\n",
    "* --all: 下載所有預訓練模型（數量龐大耗費時間久，不建議）\n",
    "* --list: 使用模型列表檔案來進行轉換\n",
    "* --name: 指定模型的名稱，個模型用逗點隔開\n",
    "* --precisions: 只下載特定精度的模型"
   ]
  },
  {
   "cell_type": "code",
   "execution_count": null,
   "id": "2b7592fe",
   "metadata": {},
   "outputs": [],
   "source": [
    "DEMO_PATH='open_model_zoo/demos/object_detection_demo/python'\n",
    "MODEL_NAME='ssd_mobilenet_v2_coco'"
   ]
  },
  {
   "cell_type": "code",
   "execution_count": null,
   "id": "e5b510de",
   "metadata": {
    "scrolled": true
   },
   "outputs": [],
   "source": [
    "!cat $DEMO_PATH/models.lst"
   ]
  },
  {
   "cell_type": "code",
   "execution_count": null,
   "id": "329f7719",
   "metadata": {},
   "outputs": [],
   "source": [
    "!downloader.py --name $MODEL_NAME --precisions FP16"
   ]
  },
  {
   "cell_type": "markdown",
   "id": "f84b0081",
   "metadata": {},
   "source": [
    "### Converter 轉換模型\n",
    "\n",
    "將預訓練的模型做最佳化轉換成 OpenVINO 推論引擎要使用的格式。\n",
    "\n",
    "converter.py 工具常用參數，\n",
    "\n",
    "* --all:  轉換所有預訓練模型（數量龐大耗費時間久，不建議）\n",
    "* --list: 使用模型列表檔案來進行轉換\n",
    "* --name: 指定模型的名稱，個模型用逗點隔開\n",
    "* --precisions: 指定轉換後的精度，如FP32, FP16 等"
   ]
  },
  {
   "cell_type": "code",
   "execution_count": null,
   "id": "c2fd15b5",
   "metadata": {
    "scrolled": true
   },
   "outputs": [],
   "source": [
    "!converter.py --name $MODEL_NAME --precisions FP16"
   ]
  },
  {
   "cell_type": "markdown",
   "id": "2852967d",
   "metadata": {},
   "source": [
    "# STEP3: Run Object Detection Demo\n",
    "\n",
    "運行物件偵測的 Python 範例程式，這邊範例分為兩個部分，圖片與影片。\n",
    "\n",
    "執行的範例程式路徑為 open_model_zoo/demos/object_detection_demo/python/object_detection_demo.py\n",
    "\n",
    "使用到的參數列表如下，若想查看完整列表可以參照[官方文件](https://docs.openvinotoolkit.org/latest/omz_demos_object_detection_demo_python.html) ：\n",
    "\n",
    "* -m MODEL:(必要) 神經網路模型，需指向到 .xml 檔案\n",
    "* -i INPUT:(必要) 輸入的影像來源，可以為圖片、目錄（內含圖片）、影片以及Camera ID等\n",
    "* -at: (必要) 物件偵測神經網路模型的架構，可為 ssd, yolo, tolov4, faceboxes, ctpn,... 等\n",
    "* -d DEVICE: 使用的推論硬體，可為 CPU, GPU, HDDL 等。預設為 CPU\n",
    "* --label: 模型資料集對應的標籤檔\n",
    "* -o OUTPUT: 輸出檔案\n",
    "* --no_show: 不顯示輸出結果（預設會使用GTK圖形工具顯示辨識結果影像）"
   ]
  },
  {
   "cell_type": "markdown",
   "id": "0f04fdc0",
   "metadata": {},
   "source": [
    "## Object Detection for Image 照片物件偵測\n",
    "\n"
   ]
  },
  {
   "cell_type": "markdown",
   "id": "06767998",
   "metadata": {},
   "source": [
    "###  Prepare Image \n",
    "\n",
    "從免費授權圖庫網站 pixabay 下載（遵循 Pixabay License），來當作範例使用，各位也可以自行上傳自己的圖片來做辨識。"
   ]
  },
  {
   "cell_type": "code",
   "execution_count": null,
   "id": "f44fec5f",
   "metadata": {
    "scrolled": true
   },
   "outputs": [],
   "source": [
    "!wget https://cdn.pixabay.com/photo/2015/11/26/08/56/taiwan-1063526_960_720.jpg"
   ]
  },
  {
   "cell_type": "code",
   "execution_count": null,
   "id": "b5521dea",
   "metadata": {
    "scrolled": true
   },
   "outputs": [],
   "source": [
    "from IPython.display import Image \n",
    "InputImage = 'taiwan-1063526_960_720.jpg'\n",
    "OutputImage = 'output.jpg'\n",
    "pil_img = Image(filename=InputImage)\n",
    "display(pil_img)"
   ]
  },
  {
   "cell_type": "markdown",
   "id": "96bc85d8",
   "metadata": {},
   "source": [
    "### Inference Demo 執行推論範例"
   ]
  },
  {
   "cell_type": "code",
   "execution_count": null,
   "id": "e73c1f3b",
   "metadata": {
    "scrolled": false
   },
   "outputs": [],
   "source": [
    "!$DEMO_PATH/object_detection_demo.py  \\\n",
    "-i $InputImage  -o $OutputImage --no_show  -m public/ssd_mobilenet_v2_coco/FP16/ssd_mobilenet_v2_coco.xml  -at ssd \\\n",
    "--labels open_model_zoo/data/dataset_classes/coco_91cl_bkgr.txt"
   ]
  },
  {
   "cell_type": "markdown",
   "id": "06f95119",
   "metadata": {},
   "source": [
    "### View Output Result 檢視輸出結果"
   ]
  },
  {
   "cell_type": "code",
   "execution_count": null,
   "id": "56e6a236",
   "metadata": {},
   "outputs": [],
   "source": [
    "pil_img = Image(filename=OutputImage)\n",
    "display(pil_img)"
   ]
  },
  {
   "cell_type": "markdown",
   "id": "e5fa75f2",
   "metadata": {},
   "source": [
    "## Object Detection for Video 影片物件偵測"
   ]
  },
  {
   "cell_type": "markdown",
   "id": "ea6f672a",
   "metadata": {},
   "source": [
    "### View Input Video 檢視輸入影片"
   ]
  },
  {
   "cell_type": "code",
   "execution_count": null,
   "id": "321ff246",
   "metadata": {},
   "outputs": [],
   "source": [
    "!wget https://github.com/FelixLinSY/devcloud_handon/raw/master/test_video/street.mp4"
   ]
  },
  {
   "cell_type": "code",
   "execution_count": null,
   "id": "20d74dad",
   "metadata": {},
   "outputs": [],
   "source": [
    "from qarpo.demoutils import *\n",
    "InputVideo = \"my_demo/street.mp4\"\n",
    "videoHTML('Input: Street Video', [InputVideo])"
   ]
  },
  {
   "cell_type": "markdown",
   "id": "9a7f66d1",
   "metadata": {},
   "source": [
    "### Inference Demo 執行推論範例"
   ]
  },
  {
   "cell_type": "markdown",
   "id": "8cd69995",
   "metadata": {},
   "source": [
    "修改輸出 codec 格式方能在 DevCloud 上檢視結果"
   ]
  },
  {
   "cell_type": "code",
   "execution_count": null,
   "id": "6d2ae645",
   "metadata": {},
   "outputs": [],
   "source": [
    "!sed -i 's/MJPG/avc1/g' $DEMO_PATH/object_detection_demo.py\n",
    "!sed -n '304p' $DEMO_PATH/object_detection_demo.py"
   ]
  },
  {
   "cell_type": "code",
   "execution_count": null,
   "id": "38968c80",
   "metadata": {
    "scrolled": false
   },
   "outputs": [],
   "source": [
    "!$DEMO_PATH/object_detection_demo.py  \\\n",
    "-i street.mp4 -o output.mp4 --no_show  -m public/ssd_mobilenet_v2_coco/FP16/ssd_mobilenet_v2_coco.xml  -at ssd \\\n",
    "--labels open_model_zoo/data/dataset_classes/coco_91cl_bkgr.txt"
   ]
  },
  {
   "cell_type": "markdown",
   "id": "e73cfe48",
   "metadata": {},
   "source": [
    "### View Output Video 檢視輸出影片"
   ]
  },
  {
   "cell_type": "code",
   "execution_count": null,
   "id": "5999e748",
   "metadata": {},
   "outputs": [],
   "source": [
    "OutputVideo = \"my_demo/output.mp4\"\n",
    "videoHTML('Output: Street Video', [OutputVideo])"
   ]
  },
  {
   "cell_type": "markdown",
   "id": "9e4ce60f",
   "metadata": {},
   "source": [
    "(optional) 將範例程式裡面的 codec 換回原本的 MJPG"
   ]
  },
  {
   "cell_type": "code",
   "execution_count": null,
   "id": "350e5693",
   "metadata": {},
   "outputs": [],
   "source": [
    "!sed -i 's/avc1/MJPG/g' $DEMO_PATH/object_detection_demo.py\n",
    "!sed -n '304p' $DEMO_PATH/object_detection_demo.py"
   ]
  },
  {
   "cell_type": "markdown",
   "id": "9f0ec6e1",
   "metadata": {},
   "source": [
    "# Your Next Step\n",
    "\n",
    "這篇 ipython notebook 快速的在DevCloud上實作open model zoo 的DEMO，但實際這可能應用到 DevCloud 一半不到的功能。建議各位後續可以往以下幾個方向去延伸：\n",
    "\n",
    "* **將模型放到 Tiger Lake 平台等不同裝置運行**: DevCloud的一大優勢，就是可以將模型時繼佈署到真實[邊緣裝置](https://software.intel.com/content/www/us/en/develop/tools/devcloud/edge/launch/ecosystem-partners.html)進行推論，各位可以參考DevCloud 上的教學或 [Jack的文章](https://makerpro.cc/2021/07/intel-devcloud-let-you-try-artificial-intelligence-before-buying-it/)。\n",
    "* **更換不同模型與範例**: 本篇使用的範例是 object detection，搭配的模型是 mobilenet v2 coco， model zoo 上還有各種有趣的模型與範例值得你進一步了解！"
   ]
  }
 ],
 "metadata": {
  "kernelspec": {
   "display_name": "Python 3 (OpenVINO 2021.4 LTS)",
   "language": "python",
   "name": "c003-python_3"
  },
  "language_info": {
   "codemirror_mode": {
    "name": "ipython",
    "version": 3
   },
   "file_extension": ".py",
   "mimetype": "text/x-python",
   "name": "python",
   "nbconvert_exporter": "python",
   "pygments_lexer": "ipython3",
   "version": "3.6.9"
  },
  "nbTranslate": {
   "displayLangs": [
    "*"
   ],
   "hotkey": "alt-t",
   "langInMainMenu": true,
   "sourceLang": "en",
   "targetLang": "fr",
   "useGoogleTranslate": true
  },
  "toc": {
   "base_numbering": 1,
   "nav_menu": {},
   "number_sections": true,
   "sideBar": true,
   "skip_h1_title": false,
   "title_cell": "Table of Contents",
   "title_sidebar": "Contents",
   "toc_cell": false,
   "toc_position": {
    "height": "calc(100% - 180px)",
    "left": "10px",
    "top": "150px",
    "width": "384px"
   },
   "toc_section_display": true,
   "toc_window_display": true
  }
 },
 "nbformat": 4,
 "nbformat_minor": 5
}
