{
 "cells": [
  {
   "cell_type": "markdown",
   "id": "b4bbd513",
   "metadata": {},
   "source": [
    "# STEP1: Clone open_model_zoo Repository\n",
    "\n",
    "[open_model_zoo](https://github.com/openvinotoolkit/open_model_zoo) 是 OpenVINO Toolkit 下的子專案，內容包含大量的預先訓練好的深度神經網路模型，並且附帶各種不同的 DEMO 範例程式。先知其然在探究其所以然，讓入門者可以方便切入 AI 領域。\n",
    "\n",
    "在DevCloud上雖然已有內建open_model_zoo的範例與模型說明資料等，但為確保我們使用的是最新版本，需要從 Github 複製一個目前最新的 open_model_zoo 副本到 DevCloud上。"
   ]
  },
  {
   "cell_type": "code",
   "execution_count": null,
   "id": "83fb526f",
   "metadata": {},
   "outputs": [],
   "source": [
    "!mkdir ~/my_demo/"
   ]
  },
  {
   "cell_type": "code",
   "execution_count": null,
   "id": "4895e0ab",
   "metadata": {},
   "outputs": [],
   "source": [
    "%cd ~/my_demo/"
   ]
  },
  {
   "cell_type": "code",
   "execution_count": null,
   "id": "dddc45fe",
   "metadata": {},
   "outputs": [],
   "source": [
    "!git clone https://github.com/openvinotoolkit/open_model_zoo.git"
   ]
  },
  {
   "cell_type": "markdown",
   "id": "b8866ebf",
   "metadata": {},
   "source": [
    "# STEP2: Download and Converter Pre-trained Model 下載與轉換預訓練模型\n",
    "使用內建的 OpenVINO downloader 工具，下載範例 DEMO 程式相關模型。\n",
    "\n",
    "由於物件偵測 object detection 的模型非常多，這邊會花上一些等待時間。\n",
    "若已經有指定的模型，可以只下載特定模型以節省時間。"
   ]
  },
  {
   "cell_type": "markdown",
   "id": "9d15e9ee",
   "metadata": {},
   "source": [
    "## All Object Detection Models 下載全部模型"
   ]
  },
  {
   "cell_type": "markdown",
   "id": "0e5f9527",
   "metadata": {},
   "source": [
    "### Download 下載模型\n"
   ]
  },
  {
   "cell_type": "markdown",
   "id": "1263e1c1",
   "metadata": {},
   "source": [
    "下載預訓練的模型做，所有模型可以參照\n",
    "\n",
    "downloader.py 工具常用參數如下，完整說明可參閱 [OpenVINO文件](https://docs.openvinotoolkit.org/latest/omz_tools_downloader.html)\n",
    "\n",
    "* --all: 下載所有預訓練模型（數量龐大耗費時間久，不建議）\n",
    "* --list: 使用模型列表檔案來進行轉換\n",
    "* --name: 指定模型的名稱，個模型用逗點隔開\n",
    "* --precisions: 只下載特定精度的預訓練模型，如FP32, FP16 等\n"
   ]
  },
  {
   "cell_type": "code",
   "execution_count": null,
   "id": "39e463bc",
   "metadata": {},
   "outputs": [],
   "source": [
    "DEMO_PATH='open_model_zoo/demos/object_detection_demo/python'"
   ]
  },
  {
   "cell_type": "code",
   "execution_count": null,
   "id": "0c7fd029",
   "metadata": {
    "scrolled": true
   },
   "outputs": [],
   "source": [
    "!downloader.py --list $DEMO_PATH/models.lst"
   ]
  },
  {
   "cell_type": "markdown",
   "id": "516cdf8c",
   "metadata": {},
   "source": [
    "### Converter 轉換模型\n",
    "將預訓練的模型做最佳化轉換成 OpenVINO 推論引擎要使用的格式。\n",
    "\n",
    "converter.py 工具常用參數，\n",
    "\n",
    "* --all:  轉換所有預訓練模型（數量龐大耗費時間久，不建議）\n",
    "* --list: 使用模型列表檔案來進行轉換\n",
    "* --name: 指定模型的名稱，個模型用逗點隔開\n",
    "* --precisions: 指定轉換模型的精度，如FP32, FP16 等\n"
   ]
  },
  {
   "cell_type": "code",
   "execution_count": null,
   "id": "1591cc12",
   "metadata": {},
   "outputs": [],
   "source": [
    "!converter.py --list $DEMO_PATH/models.lst"
   ]
  },
  {
   "cell_type": "markdown",
   "id": "32726dbf",
   "metadata": {},
   "source": [
    "## Sepcific Model 下載特定模型"
   ]
  },
  {
   "cell_type": "markdown",
   "id": "7763b06c",
   "metadata": {},
   "source": [
    "### Download 下載模型\n",
    "下載預訓練的模型做，所有模型可以參照\n",
    "\n",
    "downloader.py 工具常用參數如下，完整說明可參閱 [OpenVINO文件](https://docs.openvinotoolkit.org/latest/omz_tools_downloader.html)\n",
    "\n",
    "* --all: 下載所有預訓練模型（數量龐大耗費時間久，不建議）\n",
    "* --list: 使用模型列表檔案來進行轉換\n",
    "* --name: 指定模型的名稱，個模型用逗點隔開\n",
    "* --precisions: 只下載特定精度的模型"
   ]
  },
  {
   "cell_type": "code",
   "execution_count": null,
   "id": "2b7592fe",
   "metadata": {},
   "outputs": [],
   "source": [
    "DEMO_PATH='open_model_zoo/demos/object_detection_demo/python'\n",
    "MODEL_NAME='ssd_mobilenet_v2_coco'"
   ]
  },
  {
   "cell_type": "code",
   "execution_count": null,
   "id": "e5b510de",
   "metadata": {
    "scrolled": true
   },
   "outputs": [],
   "source": [
    "!cat $DEMO_PATH/models.lst"
   ]
  },
  {
   "cell_type": "code",
   "execution_count": null,
   "id": "329f7719",
   "metadata": {},
   "outputs": [],
   "source": [
    "!downloader.py --name $MODEL_NAME --precisions FP16"
   ]
  },
  {
   "cell_type": "markdown",
   "id": "f84b0081",
   "metadata": {},
   "source": [
    "### Converter 轉換模型\n",
    "\n",
    "將預訓練的模型做最佳化轉換成 OpenVINO 推論引擎要使用的格式。\n",
    "\n",
    "converter.py 工具常用參數，\n",
    "\n",
    "* --all:  轉換所有預訓練模型（數量龐大耗費時間久，不建議）\n",
    "* --list: 使用模型列表檔案來進行轉換\n",
    "* --name: 指定模型的名稱，個模型用逗點隔開\n",
    "* --precisions: 指定轉換後的精度，如FP32, FP16 等"
   ]
  },
  {
   "cell_type": "code",
   "execution_count": null,
   "id": "c2fd15b5",
   "metadata": {
    "scrolled": true
   },
   "outputs": [],
   "source": [
    "!converter.py --name $MODEL_NAME --precisions FP16"
   ]
  },
  {
   "cell_type": "markdown",
   "id": "2852967d",
   "metadata": {},
   "source": [
    "# STEP3: Run Object Detection Demo\n",
    "\n",
    "運行物件偵測的 Python 範例程式，這邊範例分為兩個部分，圖片與影片。\n",
    "\n",
    "執行的範例程式路徑為 open_model_zoo/demos/object_detection_demo/python/object_detection_demo.py\n",
    "\n",
    "使用到的參數列表如下，若想查看完整列表可以參照[官方文件](https://docs.openvinotoolkit.org/latest/omz_demos_object_detection_demo_python.html) ：\n",
    "\n",
    "* -m MODEL:(必要) 神經網路模型，需指向到 .xml 檔案\n",
    "* -i INPUT:(必要) 輸入的影像來源，可以為圖片、目錄（內含圖片）、影片以及Camera ID等\n",
    "* -at: (必要) 物件偵測神經網路模型的架構，可為 ssd, yolo, tolov4, faceboxes, ctpn,... 等\n",
    "* -d DEVICE: 使用的推論硬體，可為 CPU, GPU, HDDL 等。預設為 CPU\n",
    "* --label: 模型資料集對應的標籤檔\n",
    "* -o OUTPUT: 輸出檔案\n",
    "* --no_show: 不顯示輸出結果（預設會使用GTK圖形工具顯示辨識結果影像）"
   ]
  },
  {
   "cell_type": "markdown",
   "id": "0f04fdc0",
   "metadata": {},
   "source": [
    "## Object Detection for Image 照片物件偵測\n",
    "\n"
   ]
  },
  {
   "cell_type": "markdown",
   "id": "06767998",
   "metadata": {},
   "source": [
    "###  Prepare Image \n",
    "\n",
    "從免費授權圖庫網站 pixabay 下載（遵循 Pixabay License），來當作範例使用，各位也可以自行上傳自己的圖片來做辨識。"
   ]
  },
  {
   "cell_type": "code",
   "execution_count": null,
   "id": "f44fec5f",
   "metadata": {
    "scrolled": true
   },
   "outputs": [],
   "source": [
    "!wget https://cdn.pixabay.com/photo/2015/11/26/08/56/taiwan-1063526_960_720.jpg"
   ]
  },
  {
   "cell_type": "code",
   "execution_count": null,
   "id": "b5521dea",
   "metadata": {
    "scrolled": true
   },
   "outputs": [],
   "source": [
    "from IPython.display import Image \n",
    "InputImage = 'taiwan-1063526_960_720.jpg'\n",
    "OutputImage = 'output.jpg'\n",
    "pil_img = Image(filename=InputImage)\n",
    "display(pil_img)"
   ]
  },
  {
   "cell_type": "markdown",
   "id": "96bc85d8",
   "metadata": {},
   "source": [
    "### Inference Demo 執行推論範例"
   ]
  },
  {
   "cell_type": "code",
   "execution_count": null,
   "id": "e73c1f3b",
   "metadata": {
    "scrolled": false
   },
   "outputs": [],
   "source": [
    "!$DEMO_PATH/object_detection_demo.py  \\\n",
    "-i $InputImage  -o $OutputImage --no_show  -m public/ssd_mobilenet_v2_coco/FP16/ssd_mobilenet_v2_coco.xml  -at ssd \\\n",
    "--labels open_model_zoo/data/dataset_classes/coco_91cl_bkgr.txt"
   ]
  },
  {
   "cell_type": "markdown",
   "id": "06f95119",
   "metadata": {},
   "source": [
    "### View Output Result 檢視輸出結果"
   ]
  },
  {
   "cell_type": "code",
   "execution_count": null,
   "id": "56e6a236",
   "metadata": {},
   "outputs": [],
   "source": [
    "pil_img = Image(filename=OutputImage)\n",
    "display(pil_img)"
   ]
  },
  {
   "cell_type": "markdown",
   "id": "e5fa75f2",
   "metadata": {},
   "source": [
    "## Object Detection for Video 影片物件偵測"
   ]
  },
  {
   "cell_type": "markdown",
   "id": "ea6f672a",
   "metadata": {},
   "source": [
    "### View Input Video 檢視輸入影片"
   ]
  },
  {
   "cell_type": "code",
   "execution_count": null,
   "id": "321ff246",
   "metadata": {},
   "outputs": [],
   "source": [
    "!wget https://github.com/FelixLinSY/DevCloud_Hands_On/raw/main/test_video/street.mp4"
   ]
  },
  {
   "cell_type": "code",
   "execution_count": null,
   "id": "20d74dad",
   "metadata": {},
   "outputs": [],
   "source": [
    "from qarpo.demoutils import *\n",
    "InputVideo = \"my_demo/street.mp4\"\n",
    "videoHTML('Input: Street Video', [InputVideo])"
   ]
  },
  {
   "cell_type": "markdown",
   "id": "9a7f66d1",
   "metadata": {},
   "source": [
    "### Inference Demo 執行推論範例"
   ]
  },
  {
   "cell_type": "markdown",
   "id": "8cd69995",
   "metadata": {},
   "source": [
    "修改輸出 codec 格式方能在 DevCloud 上檢視結果"
   ]
  },
  {
   "cell_type": "code",
   "execution_count": null,
   "id": "6d2ae645",
   "metadata": {},
   "outputs": [],
   "source": [
    "!sed -i 's/MJPG/avc1/g' $DEMO_PATH/object_detection_demo.py\n",
    "!sed -n '304p' $DEMO_PATH/object_detection_demo.py"
   ]
  },
  {
   "cell_type": "code",
   "execution_count": null,
   "id": "38968c80",
   "metadata": {
    "scrolled": false
   },
   "outputs": [],
   "source": [
    "!$DEMO_PATH/object_detection_demo.py  \\\n",
    "-i street.mp4 -o output.mp4 --no_show  -m public/ssd_mobilenet_v2_coco/FP16/ssd_mobilenet_v2_coco.xml  -at ssd \\\n",
    "--labels open_model_zoo/data/dataset_classes/coco_91cl_bkgr.txt"
   ]
  },
  {
   "cell_type": "markdown",
   "id": "e73cfe48",
   "metadata": {},
   "source": [
    "### View Output Video 檢視輸出影片"
   ]
  },
  {
   "cell_type": "code",
   "execution_count": null,
   "id": "5999e748",
   "metadata": {},
   "outputs": [],
   "source": [
    "OutputVideo = \"my_demo/output.mp4\"\n",
    "videoHTML('Output: Street Video', [OutputVideo])"
   ]
  },
  {
   "cell_type": "markdown",
   "id": "9e4ce60f",
   "metadata": {},
   "source": [
    "(optional) 將範例程式裡面的 codec 換回原本的 MJPG"
   ]
  },
  {
   "cell_type": "code",
   "execution_count": null,
   "id": "350e5693",
   "metadata": {
    "scrolled": true
   },
   "outputs": [],
   "source": [
    "!sed -i 's/avc1/MJPG/g' $DEMO_PATH/object_detection_demo.py\n",
    "!sed -n '304p' $DEMO_PATH/object_detection_demo.py"
   ]
  },
  {
   "cell_type": "markdown",
   "id": "ee3a7700",
   "metadata": {},
   "source": [
    "# STEP4: Inference on Real Edge Devices 在邊緣裝置執行推論"
   ]
  },
  {
   "cell_type": "markdown",
   "id": "0565eb9c",
   "metadata": {},
   "source": [
    "## Create the Job File 建立工作腳本檔案\n",
    "\n",
    "接下來將使用到 DevCloud 上一個強大的功能，就是可以能把AI推論應用程式放到實體邊緣裝置進行運算，所有支援的裝置可以參見 [支援裝置清單](https://software.intel.com/content/www/us/en/develop/tools/devcloud/edge/launch.html)\n",
    "\n",
    "在配發工作任務給各邊緣裝置之前，必須先建立 shell script 的腳本工作檔，後續將使用這個工作檔將任務送到各邊緣裝置上。\n",
    "為方便我們有彈性的切換 CPU/GPU 運算以及設定輸出檔案，將部分參數於呼叫時傳入，預期指令如下：\n",
    "\n",
    "```bash\n",
    "job.sh <output_file> <device>\n",
    "```\n",
    "\n",
    "其中個參數之意義為:\n",
    "- <*output_file*> - 輸出的檔案或目錄\n",
    "- <*device*> - 使用的推論硬體，如 CPU, GPU 等\n",
    "\n",
    "接著執行下一個 cell 使用 ipython notebook 的 magic command [`%%writefile`](https://ipython.readthedocs.io/en/stable/interactive/magics.html#cellmagic-writefile) 生成工作任務檔，各位也可以自行編修調整。"
   ]
  },
  {
   "cell_type": "code",
   "execution_count": null,
   "id": "36d1305d",
   "metadata": {},
   "outputs": [],
   "source": [
    "%%writefile job.sh\n",
    "\n",
    "DEMO_PATH='open_model_zoo/demos/object_detection_demo/python'\n",
    "\n",
    "OUTPUT_FILE=$1\n",
    "DEVICE=$2\n",
    "\n",
    "cd $PBS_O_WORKDIR\n",
    "\n",
    "$DEMO_PATH/object_detection_demo.py \\\n",
    "    -i street.mp4 \\\n",
    "    -o $OUTPUT_FILE \\\n",
    "    --no_show \\\n",
    "    -d $DEVICE \\\n",
    "    -m public/ssd_mobilenet_v2_coco/FP16/ssd_mobilenet_v2_coco.xml \\\n",
    "    -at ssd \\\n",
    "    --labels open_model_zoo/data/dataset_classes/coco_91cl_bkgr.txt\n",
    "    "
   ]
  },
  {
   "cell_type": "markdown",
   "id": "0523e674",
   "metadata": {},
   "source": [
    "修改輸出 codec 格式方能在 DevCloud 上檢視結果"
   ]
  },
  {
   "cell_type": "code",
   "execution_count": null,
   "id": "ec3a6be9",
   "metadata": {},
   "outputs": [],
   "source": [
    "!sed -i 's/MJPG/avc1/g' $DEMO_PATH/object_detection_demo.py\n",
    "!sed -n '304p' $DEMO_PATH/object_detection_demo.py"
   ]
  },
  {
   "cell_type": "markdown",
   "id": "71c5bc97",
   "metadata": {},
   "source": [
    "## Submit Job 派送工作任務\n",
    "現在我們可以將工作任務派送給邊緣運算節點，透過 `qsub` 指令與相關參數來派送工作：\n",
    "\n",
    "```bash\n",
    "qsub <job_file> -N <JobName> -l <nodes> -F \"<job_file_arguments>\" \n",
    "```\n",
    "- <*job_file*> - 要執行的工作任務腳本，也就是我們前面4.1產生的 shell script 檔案\n",
    "- `-N` <*JobName*> : 指定工作名稱，方便我們後續藉由這名稱查看與追蹤工作任務\n",
    "- `-l` <*nodes*> - 指定工作節點，可以分配一個或多個實體裝置進行運算 *nodes*=<*node_count*>:<*property*>[:<*property*>...]\n",
    "- `-F` \"<*job_file_arguments*>\" - 工作腳本參數，這些參數將會被帶入執行的腳本中\n",
    "\n",
    "可以藉由以下這個 pdsnodes 指令來檢視目前 DevCloud for the Edge 所有可用的裝置列表"
   ]
  },
  {
   "cell_type": "code",
   "execution_count": null,
   "id": "987fd206",
   "metadata": {
    "scrolled": true
   },
   "outputs": [],
   "source": [
    "!pbsnodes | grep compnode | awk '{print $3}' | sort | uniq -c"
   ]
  },
  {
   "cell_type": "markdown",
   "id": "0d9f9071",
   "metadata": {},
   "source": [
    "可以看到這些列表當中，最前面的數字為這個裝置的實體數量，再來是**裝置ID**，分派工作到邊緣裝置節點指定的就是**裝置ID**，其他接續的則是這個裝置的規格，包含 openvino版本、CPU代號、顯示卡與記憶體等資訊。\n",
    "\n",
    "於此我們挑選 intel 最新的 11 代 Core 內建 Iris Xe GPU 來進行推論，並且我們執行兩次，分別使用CPU與GPU來進行推論，產生兩個不同的輸出檔，藉此來觀察兩者的效能差異。"
   ]
  },
  {
   "cell_type": "code",
   "execution_count": null,
   "id": "14e6176d",
   "metadata": {},
   "outputs": [],
   "source": [
    "#Submit job to the queue\n",
    "!qsub job.sh -l nodes=1:idc045 -N tiger_lake_cpu -F \"output_cpu.mp4 CPU\""
   ]
  },
  {
   "cell_type": "code",
   "execution_count": null,
   "id": "78feab5c",
   "metadata": {
    "scrolled": true
   },
   "outputs": [],
   "source": [
    "#Submit job to the queue\n",
    "!qsub job.sh -l nodes=1:idc045 -N tiger_lake_gpu -F \"output_gpu.mp4 GPU\""
   ]
  },
  {
   "cell_type": "markdown",
   "id": "d7d908b9",
   "metadata": {},
   "source": [
    "由於推論工作將分配給邊緣裝置進行運算，即使前一部指令已經顯示完成工作並返回，但實際上邊緣裝置可能仍在工作中。\n",
    "\n",
    "可以使用 `liveQstat()` 追蹤目前正在執行的工作任務有哪些（是的，你可以同時分派多種不同任務給各邊緣裝置），等待確定工作完成後再檢視輸出結果。\n"
   ]
  },
  {
   "cell_type": "code",
   "execution_count": null,
   "id": "0d89dbb9",
   "metadata": {
    "scrolled": false
   },
   "outputs": [],
   "source": [
    "liveQstat()"
   ]
  },
  {
   "cell_type": "markdown",
   "id": "85ca7517",
   "metadata": {},
   "source": [
    "(optional) 將範例程式裡面的 codec 換回原本的 MJPG"
   ]
  },
  {
   "cell_type": "code",
   "execution_count": null,
   "id": "6580c48d",
   "metadata": {},
   "outputs": [],
   "source": [
    "!sed -i 's/avc1/MJPG/g' $DEMO_PATH/object_detection_demo.py\n",
    "!sed -n '304p' $DEMO_PATH/object_detection_demo.py"
   ]
  },
  {
   "cell_type": "markdown",
   "id": "72257db7",
   "metadata": {},
   "source": [
    "## View Output Result 觀察輸出結果\n"
   ]
  },
  {
   "cell_type": "code",
   "execution_count": null,
   "id": "c45534df",
   "metadata": {},
   "outputs": [],
   "source": [
    "OutputVideo = \"my_demo/output_cpu.mp4\"\n",
    "videoHTML('CPU Output', [OutputVideo])"
   ]
  },
  {
   "cell_type": "code",
   "execution_count": null,
   "id": "679fe7e4",
   "metadata": {
    "scrolled": false
   },
   "outputs": [],
   "source": [
    "OutputVideo = \"my_demo/output_gpu.mp4\"\n",
    "videoHTML('GPU Output', [OutputVideo])"
   ]
  },
  {
   "cell_type": "markdown",
   "id": "9f0ec6e1",
   "metadata": {},
   "source": [
    "# Your Next Step\n",
    "\n",
    "這篇 ipython notebook 快速的在DevCloud上實作open model zoo 的DEMO，並且佈署到 Tiger Lake 平台執行。然而 DevCloud 功能相當強大，建議各位後續可以從 open model zoo 內各種有趣的範例和預訓練的模型當中做探索，或是執行 DevCloud 上不同應用展示，都是不錯的學習路徑喔！\n"
   ]
  }
 ],
 "metadata": {
  "kernelspec": {
   "display_name": "Python 3 (OpenVINO 2021.4 LTS)",
   "language": "python",
   "name": "c003-python_3"
  },
  "language_info": {
   "codemirror_mode": {
    "name": "ipython",
    "version": 3
   },
   "file_extension": ".py",
   "mimetype": "text/x-python",
   "name": "python",
   "nbconvert_exporter": "python",
   "pygments_lexer": "ipython3",
   "version": "3.6.9"
  },
  "nbTranslate": {
   "displayLangs": [
    "*"
   ],
   "hotkey": "alt-t",
   "langInMainMenu": true,
   "sourceLang": "en",
   "targetLang": "fr",
   "useGoogleTranslate": true
  },
  "toc": {
   "base_numbering": 1,
   "nav_menu": {},
   "number_sections": true,
   "sideBar": true,
   "skip_h1_title": false,
   "title_cell": "Table of Contents",
   "title_sidebar": "Contents",
   "toc_cell": false,
   "toc_position": {
    "height": "calc(100% - 180px)",
    "left": "10px",
    "top": "150px",
    "width": "384px"
   },
   "toc_section_display": true,
   "toc_window_display": true
  }
 },
 "nbformat": 4,
 "nbformat_minor": 5
}
