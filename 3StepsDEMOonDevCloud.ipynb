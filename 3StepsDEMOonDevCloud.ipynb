{
 "cells": [
  {
   "cell_type": "markdown",
   "source": [
    "# STEP1: Clone open_model_zoo Repository\n",
    "\n",
    "[open_model_zoo](https://github.com/openvinotoolkit/open_model_zoo) 是 OpenVINO Toolkit 下的子專案，內容包含大量的預先訓練好的深度神經網路模型，並且附帶各種不同的 DEMO 範例程式。先知其然在探究其所以然，讓入門者可以方便切入 AI 領域。\n",
    "\n",
    "在DevCloud上雖然已有內建open_model_zoo的範例與模型說明資料等，但為確保我們使用的是最新版本，需要從 Github 複製一個目前最新的 open_model_zoo 副本到 DevCloud上。"
   ],
   "metadata": {}
  },
  {
   "cell_type": "code",
   "execution_count": null,
   "source": [
    "!mkdir ~/my_demo/"
   ],
   "outputs": [],
   "metadata": {}
  },
  {
   "cell_type": "code",
   "execution_count": null,
   "source": [
    "%cd ~/my_demo/"
   ],
   "outputs": [],
   "metadata": {}
  },
  {
   "cell_type": "code",
   "execution_count": null,
   "source": [
    "!git clone https://github.com/openvinotoolkit/open_model_zoo.git"
   ],
   "outputs": [],
   "metadata": {}
  },
  {
   "cell_type": "markdown",
   "source": [
    "# STEP2: Download and Converter Pre-trained Model 下載與轉換預訓練模型\n",
    "使用內建的 OpenVINO downloader 工具，下載範例 DEMO 程式相關模型。\n",
    "\n",
    "由於物件偵測 object detection 的模型非常多，這邊會花上一些等待時間。\n",
    "若已經有指定的模型，可以只下載特定模型以節省時間。"
   ],
   "metadata": {}
  },
  {
   "cell_type": "markdown",
   "source": [
    "## All Object Detection Models 下載全部模型"
   ],
   "metadata": {}
  },
  {
   "cell_type": "markdown",
   "source": [
    "### Download 下載模型\n"
   ],
   "metadata": {}
  },
  {
   "cell_type": "markdown",
   "source": [
    "下載預訓練的模型做，所有模型可以參照\n",
    "\n",
    "downloader.py 工具常用參數如下，完整說明可參閱 [OpenVINO文件](https://docs.openvinotoolkit.org/latest/omz_tools_downloader.html)\n",
    "\n",
    "* --all: 下載所有預訓練模型（數量龐大耗費時間久，不建議）\n",
    "* --list: 使用模型列表檔案來進行轉換\n",
    "* --name: 指定模型的名稱，個模型用逗點隔開\n",
    "* --precisions: 只下載特定精度的預訓練模型，如FP32, FP16 等\n"
   ],
   "metadata": {}
  },
  {
   "cell_type": "code",
   "execution_count": null,
   "source": [
    "DEMO_PATH='open_model_zoo/demos/object_detection_demo/python'"
   ],
   "outputs": [],
   "metadata": {}
  },
  {
   "cell_type": "code",
   "execution_count": null,
   "source": [
    "!downloader.py --list $DEMO_PATH/models.lst"
   ],
   "outputs": [],
   "metadata": {
    "scrolled": true
   }
  },
  {
   "cell_type": "markdown",
   "source": [
    "### Converter 轉換模型\n",
    "將預訓練的模型做最佳化轉換成 OpenVINO 推論引擎要使用的格式。\n",
    "\n",
    "converter.py 工具常用參數，\n",
    "\n",
    "* --all:  轉換所有預訓練模型（數量龐大耗費時間久，不建議）\n",
    "* --list: 使用模型列表檔案來進行轉換\n",
    "* --name: 指定模型的名稱，個模型用逗點隔開\n",
    "* --precisions: 指定轉換模型的精度，如FP32, FP16 等\n"
   ],
   "metadata": {}
  },
  {
   "cell_type": "code",
   "execution_count": null,
   "source": [
    "!converter.py --list $DEMO_PATH/models.lst"
   ],
   "outputs": [],
   "metadata": {}
  },
  {
   "cell_type": "markdown",
   "source": [
    "## Sepcific Model 下載特定模型"
   ],
   "metadata": {}
  },
  {
   "cell_type": "markdown",
   "source": [
    "### Download 下載模型\n",
    "下載預訓練的模型做，所有模型可以參照\n",
    "\n",
    "downloader.py 工具常用參數如下，完整說明可參閱 [OpenVINO文件](https://docs.openvinotoolkit.org/latest/omz_tools_downloader.html)\n",
    "\n",
    "* --all: 下載所有預訓練模型（數量龐大耗費時間久，不建議）\n",
    "* --list: 使用模型列表檔案來進行轉換\n",
    "* --name: 指定模型的名稱，個模型用逗點隔開\n",
    "* --precisions: 只下載特定精度的模型"
   ],
   "metadata": {}
  },
  {
   "cell_type": "code",
   "execution_count": null,
   "source": [
    "DEMO_PATH='open_model_zoo/demos/object_detection_demo/python'\r\n",
    "MODEL_NAME='ssd_mobilenet_v2_coco'"
   ],
   "outputs": [],
   "metadata": {}
  },
  {
   "cell_type": "code",
   "execution_count": null,
   "source": [
    "!cat $DEMO_PATH/models.lst"
   ],
   "outputs": [],
   "metadata": {
    "scrolled": true
   }
  },
  {
   "cell_type": "code",
   "execution_count": null,
   "source": [
    "!downloader.py --name $MODEL_NAME --precisions FP16"
   ],
   "outputs": [],
   "metadata": {}
  },
  {
   "cell_type": "markdown",
   "source": [
    "### Converter 轉換模型\n",
    "\n",
    "將預訓練的模型做最佳化轉換成 OpenVINO 推論引擎要使用的格式。\n",
    "\n",
    "converter.py 工具常用參數，\n",
    "\n",
    "* --all:  轉換所有預訓練模型（數量龐大耗費時間久，不建議）\n",
    "* --list: 使用模型列表檔案來進行轉換\n",
    "* --name: 指定模型的名稱，個模型用逗點隔開\n",
    "* --precisions: 指定轉換後的精度，如FP32, FP16 等"
   ],
   "metadata": {}
  },
  {
   "cell_type": "code",
   "execution_count": null,
   "source": [
    "!converter.py --name $MODEL_NAME --precisions FP16"
   ],
   "outputs": [],
   "metadata": {
    "scrolled": true
   }
  },
  {
   "cell_type": "markdown",
   "source": [
    "# STEP3: Run Object Detection Demo\n",
    "\n",
    "運行物件偵測的 Python 範例程式，這邊範例分為兩個部分，圖片與影片。\n",
    "\n",
    "執行的範例程式路徑為 open_model_zoo/demos/object_detection_demo/python/object_detection_demo.py\n",
    "\n",
    "使用到的參數列表如下，若想查看完整列表可以參照[官方文件](https://docs.openvinotoolkit.org/latest/omz_demos_object_detection_demo_python.html) ：\n",
    "\n",
    "* -m MODEL:(必要) 神經網路模型，需指向到 .xml 檔案\n",
    "* -i INPUT:(必要) 輸入的影像來源，可以為圖片、目錄（內含圖片）、影片以及Camera ID等\n",
    "* -at: (必要) 物件偵測神經網路模型的架構，可為 ssd, yolo, tolov4, faceboxes, ctpn,... 等\n",
    "* -d DEVICE: 使用的推論硬體，可為 CPU, GPU, HDDL 等。預設為 CPU\n",
    "* --label: 模型資料集對應的標籤檔\n",
    "* -o OUTPUT: 輸出檔案\n",
    "* --no_show: 不顯示輸出結果（預設會使用GTK圖形工具顯示辨識結果影像）"
   ],
   "metadata": {}
  },
  {
   "cell_type": "markdown",
   "source": [
    "## Object Detection for Image 照片物件偵測\n",
    "\n"
   ],
   "metadata": {}
  },
  {
   "cell_type": "markdown",
   "source": [
    "###  Prepare Image \n",
    "\n",
    "從免費授權圖庫網站 pixabay 下載（遵循 Pixabay License），來當作範例使用，各位也可以自行上傳自己的圖片來做辨識。"
   ],
   "metadata": {}
  },
  {
   "cell_type": "code",
   "execution_count": null,
   "source": [
    "!wget https://cdn.pixabay.com/photo/2015/11/26/08/56/taiwan-1063526_960_720.jpg"
   ],
   "outputs": [],
   "metadata": {
    "scrolled": true
   }
  },
  {
   "cell_type": "code",
   "execution_count": null,
   "source": [
    "from IPython.display import Image \r\n",
    "InputImage = 'taiwan-1063526_960_720.jpg'\r\n",
    "OutputImage = 'output.jpg'\r\n",
    "pil_img = Image(filename=InputImage)\r\n",
    "display(pil_img)"
   ],
   "outputs": [],
   "metadata": {
    "scrolled": true
   }
  },
  {
   "cell_type": "markdown",
   "source": [
    "### Inference Demo 執行推論範例"
   ],
   "metadata": {}
  },
  {
   "cell_type": "code",
   "execution_count": null,
   "source": [
    "!$DEMO_PATH/object_detection_demo.py  \\\r\n",
    "-i $InputImage  -o $OutputImage --no_show  -m public/ssd_mobilenet_v2_coco/FP16/ssd_mobilenet_v2_coco.xml  -at ssd \\\r\n",
    "--labels open_model_zoo/data/dataset_classes/coco_91cl_bkgr.txt"
   ],
   "outputs": [],
   "metadata": {
    "scrolled": false
   }
  },
  {
   "cell_type": "markdown",
   "source": [
    "### View Output Result 檢視輸出結果"
   ],
   "metadata": {}
  },
  {
   "cell_type": "code",
   "execution_count": null,
   "source": [
    "pil_img = Image(filename=OutputImage)\r\n",
    "display(pil_img)"
   ],
   "outputs": [],
   "metadata": {}
  },
  {
   "cell_type": "markdown",
   "source": [
    "## Object Detection for Video 影片物件偵測"
   ],
   "metadata": {}
  },
  {
   "cell_type": "markdown",
   "source": [
    "### View Input Video 檢視輸入影片"
   ],
   "metadata": {}
  },
  {
   "cell_type": "code",
   "execution_count": null,
   "source": [
    "!wget https://github.com/FelixLinSY/DevCloud_Hands_On/raw/main/test_video/street.mp4"
   ],
   "outputs": [],
   "metadata": {}
  },
  {
   "cell_type": "code",
   "execution_count": null,
   "source": [
    "from qarpo.demoutils import *\r\n",
    "InputVideo = \"my_demo/street.mp4\"\r\n",
    "videoHTML('Input: Street Video', [InputVideo])"
   ],
   "outputs": [],
   "metadata": {}
  },
  {
   "cell_type": "markdown",
   "source": [
    "### Inference Demo 執行推論範例"
   ],
   "metadata": {}
  },
  {
   "cell_type": "markdown",
   "source": [
    "修改輸出 codec 格式方能在 DevCloud 上檢視結果"
   ],
   "metadata": {}
  },
  {
   "cell_type": "code",
   "execution_count": null,
   "source": [
    "!sed -i 's/MJPG/avc1/g' $DEMO_PATH/object_detection_demo.py\r\n",
    "!sed -n '304p' $DEMO_PATH/object_detection_demo.py"
   ],
   "outputs": [],
   "metadata": {}
  },
  {
   "cell_type": "code",
   "execution_count": null,
   "source": [
    "!$DEMO_PATH/object_detection_demo.py  \\\r\n",
    "-i street.mp4 -o output.mp4 --no_show  -m public/ssd_mobilenet_v2_coco/FP16/ssd_mobilenet_v2_coco.xml  -at ssd \\\r\n",
    "--labels open_model_zoo/data/dataset_classes/coco_91cl_bkgr.txt"
   ],
   "outputs": [],
   "metadata": {
    "scrolled": false
   }
  },
  {
   "cell_type": "markdown",
   "source": [
    "### View Output Video 檢視輸出影片"
   ],
   "metadata": {}
  },
  {
   "cell_type": "code",
   "execution_count": null,
   "source": [
    "OutputVideo = \"my_demo/output.mp4\"\r\n",
    "videoHTML('Output: Street Video', [OutputVideo])"
   ],
   "outputs": [],
   "metadata": {}
  },
  {
   "cell_type": "markdown",
   "source": [
    "(optional) 將範例程式裡面的 codec 換回原本的 MJPG"
   ],
   "metadata": {}
  },
  {
   "cell_type": "code",
   "execution_count": null,
   "source": [
    "!sed -i 's/avc1/MJPG/g' $DEMO_PATH/object_detection_demo.py\r\n",
    "!sed -n '304p' $DEMO_PATH/object_detection_demo.py"
   ],
   "outputs": [],
   "metadata": {}
  },
  {
   "cell_type": "markdown",
   "source": [
    "# Your Next Step\n",
    "\n",
    "這篇 ipython notebook 快速的在DevCloud上實作open model zoo 的DEMO，但實際這可能應用到 DevCloud 一半不到的功能。建議各位後續可以往以下幾個方向去延伸：\n",
    "\n",
    "* **將模型放到 Tiger Lake 平台等不同裝置運行**: DevCloud的一大優勢，就是可以將模型時繼佈署到真實[邊緣裝置](https://software.intel.com/content/www/us/en/develop/tools/devcloud/edge/launch/ecosystem-partners.html)進行推論，各位可以參考DevCloud 上的教學或 [Jack的文章](https://makerpro.cc/2021/07/intel-devcloud-let-you-try-artificial-intelligence-before-buying-it/)。\n",
    "* **更換不同模型與範例**: 本篇使用的範例是 object detection，搭配的模型是 mobilenet v2 coco， model zoo 上還有各種有趣的模型與範例值得你進一步了解！"
   ],
   "metadata": {}
  }
 ],
 "metadata": {
  "kernelspec": {
   "display_name": "Python 3 (OpenVINO 2021.4 LTS)",
   "language": "python",
   "name": "c003-python_3"
  },
  "language_info": {
   "codemirror_mode": {
    "name": "ipython",
    "version": 3
   },
   "file_extension": ".py",
   "mimetype": "text/x-python",
   "name": "python",
   "nbconvert_exporter": "python",
   "pygments_lexer": "ipython3",
   "version": "3.6.9"
  },
  "nbTranslate": {
   "displayLangs": [
    "*"
   ],
   "hotkey": "alt-t",
   "langInMainMenu": true,
   "sourceLang": "en",
   "targetLang": "fr",
   "useGoogleTranslate": true
  },
  "toc": {
   "base_numbering": 1,
   "nav_menu": {},
   "number_sections": true,
   "sideBar": true,
   "skip_h1_title": false,
   "title_cell": "Table of Contents",
   "title_sidebar": "Contents",
   "toc_cell": false,
   "toc_position": {
    "height": "calc(100% - 180px)",
    "left": "10px",
    "top": "150px",
    "width": "384px"
   },
   "toc_section_display": true,
   "toc_window_display": true
  }
 },
 "nbformat": 4,
 "nbformat_minor": 5
}